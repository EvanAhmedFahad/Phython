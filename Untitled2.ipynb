{
  "nbformat": 4,
  "nbformat_minor": 0,
  "metadata": {
    "colab": {
      "provenance": [],
      "authorship_tag": "ABX9TyP0gEXu5NV3ADeasGeJdNe3",
      "include_colab_link": true
    },
    "kernelspec": {
      "name": "python3",
      "display_name": "Python 3"
    },
    "language_info": {
      "name": "python"
    }
  },
  "cells": [
    {
      "cell_type": "markdown",
      "metadata": {
        "id": "view-in-github",
        "colab_type": "text"
      },
      "source": [
        "<a href=\"https://colab.research.google.com/github/EvanAhmedFahad/Phython/blob/main/Untitled2.ipynb\" target=\"_parent\"><img src=\"https://colab.research.google.com/assets/colab-badge.svg\" alt=\"Open In Colab\"/></a>"
      ]
    },
    {
      "cell_type": "code",
      "execution_count": 1,
      "metadata": {
        "colab": {
          "base_uri": "https://localhost:8080/"
        },
        "id": "XpW1JHpO6WlC",
        "outputId": "92f9bd07-7f73-40b3-cead-9d77eadcfb79"
      },
      "outputs": [
        {
          "output_type": "stream",
          "name": "stdout",
          "text": [
            "Last two digit is  16\n",
            "Final ans is  328\n"
          ]
        }
      ],
      "source": [
        "def population(year):\n",
        "    if year>=2000:\n",
        "        last_two_digit=year%100\n",
        "        print(\"Last two digit is \",last_two_digit)\n",
        "        final_ans=((last_two_digit-10)*3)+310\n",
        "        return final_ans\n",
        "\n",
        "\n",
        "        \n",
        "    else:\n",
        "        return -1\n",
        "\n",
        "\n",
        "Ans=population(2016)\n",
        "print(\"Final ans is \",Ans)\n",
        "\n",
        "\n",
        "\n"
      ]
    },
    {
      "cell_type": "code",
      "source": [
        "def tip_amount(final_bill,service):\n",
        "    if final_bill<=25:\n",
        "        return 6.0\n",
        "    elif final_bill>25 and service==True:\n",
        "         good=final_bill*0.27\n",
        "         return good\n",
        "        \n",
        "    elif final_bill>25 and service==False:\n",
        "         bad=final_bill*0.13\n",
        "         return bad\n",
        "Final_bill = tip_amount(63.59, False)\n",
        "print(Final_bill)\n",
        "          \n",
        "          "
      ],
      "metadata": {
        "colab": {
          "base_uri": "https://localhost:8080/"
        },
        "id": "lDZRJPh77UzF",
        "outputId": "3f4cf376-d979-4e84-8f18-58c271749646"
      },
      "execution_count": 2,
      "outputs": [
        {
          "output_type": "stream",
          "name": "stdout",
          "text": [
            "8.2667\n"
          ]
        }
      ]
    },
    {
      "cell_type": "code",
      "source": [
        "def getSeconds(hour,min,second):\n",
        "    hour=int(hour)\n",
        "    min=int(min)\n",
        "    second=int(second)\n",
        "    cal_second=(((hour*3600)+(min*60))+second)\n",
        "    return cal_second\n",
        "total_second=getSeconds(\"11\",\"11\",\"14\")\n",
        "print(total_second)\n"
      ],
      "metadata": {
        "colab": {
          "base_uri": "https://localhost:8080/"
        },
        "id": "rfHqf8Y47vN9",
        "outputId": "50f7d4cb-cb14-4b59-d92d-1216a5dd2a51"
      },
      "execution_count": 3,
      "outputs": [
        {
          "output_type": "stream",
          "name": "stdout",
          "text": [
            "40274\n"
          ]
        }
      ]
    },
    {
      "cell_type": "code",
      "source": [
        "def temp_conveter(temperature,f_or_c):\n",
        "    if f_or_c==\"F\":\n",
        "        farh=((temperature*9)/5)+32\n",
        "        return farh\n",
        "    elif f_or_c==\"C\":\n",
        "        cel=((temperature-32)*5)/9\n",
        "        return cel\n",
        "final_result=temp_conveter(50, \"F\")\n",
        "print(final_result)"
      ],
      "metadata": {
        "colab": {
          "base_uri": "https://localhost:8080/"
        },
        "id": "NJJ7Lh_J7z7c",
        "outputId": "54bc56c2-9dcd-4bac-9c08-71cb2710dc80"
      },
      "execution_count": 4,
      "outputs": [
        {
          "output_type": "stream",
          "name": "stdout",
          "text": [
            "122.0\n"
          ]
        }
      ]
    },
    {
      "cell_type": "code",
      "source": [
        "def how_long(distance,fraction,scale):\n",
        "   c=186000\n",
        "   speed=c*fraction\n",
        "   timeInSec= distance/speed\n",
        "\n",
        "   if scale==\"M\":\n",
        "      return timeInSec/60  \n",
        "   elif scale==\"H\":\n",
        "      return timeInSec/(60*60)\n",
        "         \n",
        "   elif scale==\"D\":\n",
        "      return timeInSec/(60*60*24)\n",
        "     \n",
        "   elif scale==\"Y\":\n",
        "      return timeInSec/(60*60*24*365)\n",
        "\n",
        "final=how_long(45594000, 0.01, \"H\")\n",
        "print(final)"
      ],
      "metadata": {
        "colab": {
          "base_uri": "https://localhost:8080/"
        },
        "id": "uHtZERqV77R1",
        "outputId": "6d6d283a-dba6-4d75-c5e9-6124a951ed09"
      },
      "execution_count": 5,
      "outputs": [
        {
          "output_type": "stream",
          "name": "stdout",
          "text": [
            "6.809139784946236\n"
          ]
        }
      ]
    }
  ]
}